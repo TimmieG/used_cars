{
 "cells": [
  {
   "cell_type": "code",
   "execution_count": null,
   "metadata": {
    "id": "xpbfiIA4Vp83"
   },
   "outputs": [],
   "source": [
    "import pandas as pd\n",
    "import numpy as np\n",
    "\n",
    "from sklearn.tree import DecisionTreeRegressor\n",
    "from sklearn.preprocessing import LabelEncoder\n",
    "from sklearn.model_selection import train_test_split\n",
    "from sklearn.preprocessing import OneHotEncoder\n",
    "from sklearn.impute import SimpleImputer\n",
    "\n",
    "from sklearn.ensemble import GradientBoostingRegressor\n",
    "\n",
    "\n",
    "from sklearn.metrics import mean_squared_error, r2_score\n",
    "\n",
    "import warnings\n",
    "warnings.filterwarnings('ignore')"
   ]
  },
  {
   "cell_type": "code",
   "execution_count": null,
   "metadata": {
    "colab": {
     "base_uri": "https://localhost:8080/"
    },
    "id": "pOSR3Zni0-Q8",
    "outputId": "71ccd100-e627-4a11-f50a-8f32b27c9c62"
   },
   "outputs": [
    {
     "name": "stdout",
     "output_type": "stream",
     "text": [
      "Drive already mounted at /content/drive; to attempt to forcibly remount, call drive.mount(\"/content/drive\", force_remount=True).\n"
     ]
    }
   ],
   "source": [
    "from google.colab import drive\n",
    "drive.mount('/content/drive')\n",
    "\n",
    "# train_data_path = '/content/drive/My Drive/train_data.csv'\n",
    "# test_data_path='/content/drive/My Drive/test_data.csv'\n",
    "vehicle_data_path = '/content/drive/My Drive/vehicle_dataset/vehicle_dataset.csv'"
   ]
  },
  {
   "cell_type": "code",
   "execution_count": null,
   "metadata": {
    "id": "T_SD6MW87dT_"
   },
   "outputs": [],
   "source": [
    "# load data\n",
    "vehicle_data=pd.read_csv(vehicle_data_path)\n",
    "vehicle_data = vehicle_data.dropna()"
   ]
  },
  {
   "cell_type": "code",
   "execution_count": null,
   "metadata": {
    "id": "MZp2Xpmv3sT3"
   },
   "outputs": [],
   "source": [
    "X = vehicle_data.drop(columns=['price'])\n",
    "y = vehicle_data['price']"
   ]
  },
  {
   "cell_type": "code",
   "execution_count": null,
   "metadata": {
    "colab": {
     "base_uri": "https://localhost:8080/"
    },
    "id": "efRndvNrAG2Y",
    "outputId": "5bc89e2d-765f-42e8-ec67-7a776138f773"
   },
   "outputs": [
    {
     "data": {
      "text/plain": [
       "Index(['year', 'manufacturer', 'model', 'condition', 'cylinders', 'fuel',\n",
       "       'odometer', 'title_status', 'transmission', 'drive', 'size', 'type',\n",
       "       'paint_color', 'state', 'lat', 'long'],\n",
       "      dtype='object')"
      ]
     },
     "execution_count": 90,
     "metadata": {},
     "output_type": "execute_result"
    }
   ],
   "source": [
    "columns=X.columns\n",
    "columns"
   ]
  },
  {
   "cell_type": "code",
   "execution_count": null,
   "metadata": {
    "colab": {
     "base_uri": "https://localhost:8080/"
    },
    "id": "6ACDTd_Z4vER",
    "outputId": "4caf61e1-0085-4078-dc49-2fe1c79f43f9"
   },
   "outputs": [
    {
     "name": "stdout",
     "output_type": "stream",
     "text": [
      "Print X_train: 46512\n",
      "Print y_train: 46512\n",
      "Print X_test: 11628\n",
      "Print y_test: 11628\n"
     ]
    }
   ],
   "source": [
    "X_train, X_test, y_train, y_test = train_test_split(X, y, test_size=0.2, random_state=42)\n",
    "print('Print X_train: {}'.format(X_train.shape[0]))\n",
    "print('Print y_train: {}'.format(y_train.shape[0]))\n",
    "print('Print X_test: {}'.format(X_test.shape[0]))\n",
    "print('Print y_test: {}'.format(y_test.shape[0]))"
   ]
  },
  {
   "cell_type": "code",
   "execution_count": null,
   "metadata": {
    "id": "x61fG2qo9GDo"
   },
   "outputs": [],
   "source": [
    "# if needed we will be using imputer in the data cleaning part, not here.\n",
    "#imputer = SimpleImputer(strategy='most_frequent')\n",
    "\n",
    "# # Fit the imputer on the training data and transform both training and test data\n",
    "# X_train= imputer.fit_transform(X_train)\n",
    "# X_test= imputer.transform(X_test)"
   ]
  },
  {
   "cell_type": "code",
   "execution_count": null,
   "metadata": {
    "colab": {
     "base_uri": "https://localhost:8080/"
    },
    "id": "4qTMQA9p7z3S",
    "outputId": "c9779c36-ea13-4e04-bf33-b66113e4b404"
   },
   "outputs": [
    {
     "name": "stdout",
     "output_type": "stream",
     "text": [
      "Print X_test after removing rows based on year: 11625\n",
      "Print y_test after removing rows based on year: 11625\n",
      "Print X_test after removing rows based on manufacturer: 11625\n",
      "Print y_test after removing rows based on manufacturer: 11625\n",
      "Print X_test after removing rows based on model: 11059\n",
      "Print y_test after removing rows based on model: 11059\n",
      "Print X_test after removing rows based on condition: 11059\n",
      "Print y_test after removing rows based on condition: 11059\n",
      "Print X_test after removing rows based on cylinders: 11059\n",
      "Print y_test after removing rows based on cylinders: 11059\n",
      "Print X_test after removing rows based on fuel: 11059\n",
      "Print y_test after removing rows based on fuel: 11059\n",
      "Print X_test after removing rows based on odometer: 7909\n",
      "Print y_test after removing rows based on odometer: 7909\n",
      "Print X_test after removing rows based on title_status: 7909\n",
      "Print y_test after removing rows based on title_status: 7909\n",
      "Print X_test after removing rows based on transmission: 7909\n",
      "Print y_test after removing rows based on transmission: 7909\n",
      "Print X_test after removing rows based on drive: 7909\n",
      "Print y_test after removing rows based on drive: 7909\n",
      "Print X_test after removing rows based on size: 7909\n",
      "Print y_test after removing rows based on size: 7909\n",
      "Print X_test after removing rows based on type: 7909\n",
      "Print y_test after removing rows based on type: 7909\n",
      "Print X_test after removing rows based on paint_color: 7909\n",
      "Print y_test after removing rows based on paint_color: 7909\n",
      "Print X_test after removing rows based on state: 7909\n",
      "Print y_test after removing rows based on state: 7909\n",
      "Print X_test after removing rows based on lat: 5944\n",
      "Print y_test after removing rows based on lat: 5944\n",
      "Print X_test after removing rows based on long: 5834\n",
      "Print y_test after removing rows based on long: 5834\n"
     ]
    }
   ],
   "source": [
    "# X_test = X_test[X_test['model'].isin(X_train['model'])]\n",
    "# print('Print X_test: {}'.format(X_test.shape[0]))\n",
    "\n",
    "# # Remove corresponding rows from y_test\n",
    "# y_test = y_test[y_test.index.isin(X_test.index)]\n",
    "# print('Print y_test: {}'.format(y_test.shape[0]))\n",
    "\n",
    "# Iterate over each column in X_test\n",
    "for column in X_test.columns:\n",
    "    # Remove rows from X_test based on the column values present in X_train\n",
    "    X_test = X_test[X_test[column].isin(X_train[column])]\n",
    "    print('Print X_test after removing rows based on {}: {}'.format(column, X_test.shape[0]))\n",
    "\n",
    "    # Remove corresponding rows from y_test\n",
    "    y_test = y_test[y_test.index.isin(X_test.index)]\n",
    "    print('Print y_test after removing rows based on {}: {}'.format(column, y_test.shape[0]))\n"
   ]
  },
  {
   "cell_type": "code",
   "execution_count": null,
   "metadata": {
    "id": "9FgTNvwV-6cJ"
   },
   "outputs": [],
   "source": [
    "# print(X_train)"
   ]
  },
  {
   "cell_type": "code",
   "execution_count": null,
   "metadata": {
    "colab": {
     "base_uri": "https://localhost:8080/"
    },
    "id": "Uhyqr5x4yqIF",
    "outputId": "e0295ca3-2538-4536-ebd7-5f763fbcb6bf"
   },
   "outputs": [
    {
     "name": "stdout",
     "output_type": "stream",
     "text": [
      "46512\n",
      "{'manufacturer': LabelEncoder(), 'model': LabelEncoder(), 'condition': LabelEncoder(), 'cylinders': LabelEncoder(), 'fuel': LabelEncoder(), 'title_status': LabelEncoder(), 'transmission': LabelEncoder(), 'drive': LabelEncoder(), 'size': LabelEncoder(), 'type': LabelEncoder(), 'paint_color': LabelEncoder(), 'state': LabelEncoder()}\n"
     ]
    }
   ],
   "source": [
    "# X_train = pd.DataFrame(X_train, columns=columns)\n",
    "# X_test = pd.DataFrame(X_test, columns=columns)\n",
    "\n",
    "label_encoders = {}\n",
    "\n",
    "# Encode categorical features in training data\n",
    "for feature in X_train.columns[X_train.dtypes == 'object']:\n",
    "    label_encoders[feature] = LabelEncoder()\n",
    "    X_train[feature] = label_encoders[feature].fit_transform(X_train[feature])\n",
    "\n",
    "\n",
    "print(X_train.shape[0])\n",
    "\n",
    "print(label_encoders)\n",
    "\n",
    "for feature in X_test.columns[X_test.dtypes == 'object']:\n",
    "    X_test[feature] = label_encoders[feature].transform(X_test[feature])\n"
   ]
  },
  {
   "cell_type": "code",
   "execution_count": null,
   "metadata": {
    "id": "U-7Pp8xlWvoA"
   },
   "outputs": [],
   "source": [
    "regressor = DecisionTreeRegressor(random_state = 0)"
   ]
  },
  {
   "cell_type": "code",
   "execution_count": null,
   "metadata": {
    "colab": {
     "base_uri": "https://localhost:8080/",
     "height": 74
    },
    "id": "PNhNghMIwy4T",
    "outputId": "d06ae68a-4633-4bcb-83be-1207a2c89cfb"
   },
   "outputs": [
    {
     "data": {
      "text/html": [
       "<style>#sk-container-id-8 {color: black;background-color: white;}#sk-container-id-8 pre{padding: 0;}#sk-container-id-8 div.sk-toggleable {background-color: white;}#sk-container-id-8 label.sk-toggleable__label {cursor: pointer;display: block;width: 100%;margin-bottom: 0;padding: 0.3em;box-sizing: border-box;text-align: center;}#sk-container-id-8 label.sk-toggleable__label-arrow:before {content: \"▸\";float: left;margin-right: 0.25em;color: #696969;}#sk-container-id-8 label.sk-toggleable__label-arrow:hover:before {color: black;}#sk-container-id-8 div.sk-estimator:hover label.sk-toggleable__label-arrow:before {color: black;}#sk-container-id-8 div.sk-toggleable__content {max-height: 0;max-width: 0;overflow: hidden;text-align: left;background-color: #f0f8ff;}#sk-container-id-8 div.sk-toggleable__content pre {margin: 0.2em;color: black;border-radius: 0.25em;background-color: #f0f8ff;}#sk-container-id-8 input.sk-toggleable__control:checked~div.sk-toggleable__content {max-height: 200px;max-width: 100%;overflow: auto;}#sk-container-id-8 input.sk-toggleable__control:checked~label.sk-toggleable__label-arrow:before {content: \"▾\";}#sk-container-id-8 div.sk-estimator input.sk-toggleable__control:checked~label.sk-toggleable__label {background-color: #d4ebff;}#sk-container-id-8 div.sk-label input.sk-toggleable__control:checked~label.sk-toggleable__label {background-color: #d4ebff;}#sk-container-id-8 input.sk-hidden--visually {border: 0;clip: rect(1px 1px 1px 1px);clip: rect(1px, 1px, 1px, 1px);height: 1px;margin: -1px;overflow: hidden;padding: 0;position: absolute;width: 1px;}#sk-container-id-8 div.sk-estimator {font-family: monospace;background-color: #f0f8ff;border: 1px dotted black;border-radius: 0.25em;box-sizing: border-box;margin-bottom: 0.5em;}#sk-container-id-8 div.sk-estimator:hover {background-color: #d4ebff;}#sk-container-id-8 div.sk-parallel-item::after {content: \"\";width: 100%;border-bottom: 1px solid gray;flex-grow: 1;}#sk-container-id-8 div.sk-label:hover label.sk-toggleable__label {background-color: #d4ebff;}#sk-container-id-8 div.sk-serial::before {content: \"\";position: absolute;border-left: 1px solid gray;box-sizing: border-box;top: 0;bottom: 0;left: 50%;z-index: 0;}#sk-container-id-8 div.sk-serial {display: flex;flex-direction: column;align-items: center;background-color: white;padding-right: 0.2em;padding-left: 0.2em;position: relative;}#sk-container-id-8 div.sk-item {position: relative;z-index: 1;}#sk-container-id-8 div.sk-parallel {display: flex;align-items: stretch;justify-content: center;background-color: white;position: relative;}#sk-container-id-8 div.sk-item::before, #sk-container-id-8 div.sk-parallel-item::before {content: \"\";position: absolute;border-left: 1px solid gray;box-sizing: border-box;top: 0;bottom: 0;left: 50%;z-index: -1;}#sk-container-id-8 div.sk-parallel-item {display: flex;flex-direction: column;z-index: 1;position: relative;background-color: white;}#sk-container-id-8 div.sk-parallel-item:first-child::after {align-self: flex-end;width: 50%;}#sk-container-id-8 div.sk-parallel-item:last-child::after {align-self: flex-start;width: 50%;}#sk-container-id-8 div.sk-parallel-item:only-child::after {width: 0;}#sk-container-id-8 div.sk-dashed-wrapped {border: 1px dashed gray;margin: 0 0.4em 0.5em 0.4em;box-sizing: border-box;padding-bottom: 0.4em;background-color: white;}#sk-container-id-8 div.sk-label label {font-family: monospace;font-weight: bold;display: inline-block;line-height: 1.2em;}#sk-container-id-8 div.sk-label-container {text-align: center;}#sk-container-id-8 div.sk-container {/* jupyter's `normalize.less` sets `[hidden] { display: none; }` but bootstrap.min.css set `[hidden] { display: none !important; }` so we also need the `!important` here to be able to override the default hidden behavior on the sphinx rendered scikit-learn.org. See: https://github.com/scikit-learn/scikit-learn/issues/21755 */display: inline-block !important;position: relative;}#sk-container-id-8 div.sk-text-repr-fallback {display: none;}</style><div id=\"sk-container-id-8\" class=\"sk-top-container\"><div class=\"sk-text-repr-fallback\"><pre>DecisionTreeRegressor(random_state=0)</pre><b>In a Jupyter environment, please rerun this cell to show the HTML representation or trust the notebook. <br />On GitHub, the HTML representation is unable to render, please try loading this page with nbviewer.org.</b></div><div class=\"sk-container\" hidden><div class=\"sk-item\"><div class=\"sk-estimator sk-toggleable\"><input class=\"sk-toggleable__control sk-hidden--visually\" id=\"sk-estimator-id-8\" type=\"checkbox\" checked><label for=\"sk-estimator-id-8\" class=\"sk-toggleable__label sk-toggleable__label-arrow\">DecisionTreeRegressor</label><div class=\"sk-toggleable__content\"><pre>DecisionTreeRegressor(random_state=0)</pre></div></div></div></div></div>"
      ],
      "text/plain": [
       "DecisionTreeRegressor(random_state=0)"
      ]
     },
     "execution_count": 97,
     "metadata": {},
     "output_type": "execute_result"
    }
   ],
   "source": [
    "regressor.fit(X_train,y_train)"
   ]
  },
  {
   "cell_type": "code",
   "execution_count": null,
   "metadata": {
    "colab": {
     "base_uri": "https://localhost:8080/"
    },
    "id": "ceXSuxIvw8Rp",
    "outputId": "cca9ae76-be7c-4381-a64d-7266496dd7f0"
   },
   "outputs": [
    {
     "name": "stdout",
     "output_type": "stream",
     "text": [
      "DecisionTreeRegressor\n",
      "\n",
      "Training Scores\n",
      "Mean Squared Error: 218456545897.98773\n",
      "R-squared: 0.999332926999561\n",
      "\n",
      "Test Scores\n",
      "Mean Squared Error: 28503294.74418471\n",
      "R-squared: 0.8034276258933973\n"
     ]
    }
   ],
   "source": [
    "model_name = type(regressor).__name__\n",
    "print(model_name)\n",
    "\n",
    "# Making predictions on the same data or new data\n",
    "predictions = regressor.predict(X_train)\n",
    "\n",
    "print('\\nTraining Scores')\n",
    "\n",
    "# Evaluating the model\n",
    "mse = mean_squared_error(y_train, predictions)\n",
    "print(f'Mean Squared Error: {mse}')\n",
    "\n",
    "r2 = r2_score(y_train, predictions)\n",
    "print(f'R-squared: {r2}')\n",
    "\n",
    "test_predictions = regressor.predict(X_test)\n",
    "\n",
    "\n",
    "print('\\nTest Scores')\n",
    "# Evaluating the model\n",
    "mse = mean_squared_error(y_test, test_predictions)\n",
    "print(f'Mean Squared Error: {mse}')\n",
    "\n",
    "r2 = r2_score(y_test, test_predictions)\n",
    "print(f'R-squared: {r2}')"
   ]
  },
  {
   "cell_type": "code",
   "execution_count": null,
   "metadata": {
    "colab": {
     "base_uri": "https://localhost:8080/",
     "height": 74
    },
    "id": "_xoIsbK2QiYF",
    "outputId": "3c71f3f1-1a6f-49ed-8d29-298889162195"
   },
   "outputs": [
    {
     "data": {
      "text/html": [
       "<style>#sk-container-id-9 {color: black;background-color: white;}#sk-container-id-9 pre{padding: 0;}#sk-container-id-9 div.sk-toggleable {background-color: white;}#sk-container-id-9 label.sk-toggleable__label {cursor: pointer;display: block;width: 100%;margin-bottom: 0;padding: 0.3em;box-sizing: border-box;text-align: center;}#sk-container-id-9 label.sk-toggleable__label-arrow:before {content: \"▸\";float: left;margin-right: 0.25em;color: #696969;}#sk-container-id-9 label.sk-toggleable__label-arrow:hover:before {color: black;}#sk-container-id-9 div.sk-estimator:hover label.sk-toggleable__label-arrow:before {color: black;}#sk-container-id-9 div.sk-toggleable__content {max-height: 0;max-width: 0;overflow: hidden;text-align: left;background-color: #f0f8ff;}#sk-container-id-9 div.sk-toggleable__content pre {margin: 0.2em;color: black;border-radius: 0.25em;background-color: #f0f8ff;}#sk-container-id-9 input.sk-toggleable__control:checked~div.sk-toggleable__content {max-height: 200px;max-width: 100%;overflow: auto;}#sk-container-id-9 input.sk-toggleable__control:checked~label.sk-toggleable__label-arrow:before {content: \"▾\";}#sk-container-id-9 div.sk-estimator input.sk-toggleable__control:checked~label.sk-toggleable__label {background-color: #d4ebff;}#sk-container-id-9 div.sk-label input.sk-toggleable__control:checked~label.sk-toggleable__label {background-color: #d4ebff;}#sk-container-id-9 input.sk-hidden--visually {border: 0;clip: rect(1px 1px 1px 1px);clip: rect(1px, 1px, 1px, 1px);height: 1px;margin: -1px;overflow: hidden;padding: 0;position: absolute;width: 1px;}#sk-container-id-9 div.sk-estimator {font-family: monospace;background-color: #f0f8ff;border: 1px dotted black;border-radius: 0.25em;box-sizing: border-box;margin-bottom: 0.5em;}#sk-container-id-9 div.sk-estimator:hover {background-color: #d4ebff;}#sk-container-id-9 div.sk-parallel-item::after {content: \"\";width: 100%;border-bottom: 1px solid gray;flex-grow: 1;}#sk-container-id-9 div.sk-label:hover label.sk-toggleable__label {background-color: #d4ebff;}#sk-container-id-9 div.sk-serial::before {content: \"\";position: absolute;border-left: 1px solid gray;box-sizing: border-box;top: 0;bottom: 0;left: 50%;z-index: 0;}#sk-container-id-9 div.sk-serial {display: flex;flex-direction: column;align-items: center;background-color: white;padding-right: 0.2em;padding-left: 0.2em;position: relative;}#sk-container-id-9 div.sk-item {position: relative;z-index: 1;}#sk-container-id-9 div.sk-parallel {display: flex;align-items: stretch;justify-content: center;background-color: white;position: relative;}#sk-container-id-9 div.sk-item::before, #sk-container-id-9 div.sk-parallel-item::before {content: \"\";position: absolute;border-left: 1px solid gray;box-sizing: border-box;top: 0;bottom: 0;left: 50%;z-index: -1;}#sk-container-id-9 div.sk-parallel-item {display: flex;flex-direction: column;z-index: 1;position: relative;background-color: white;}#sk-container-id-9 div.sk-parallel-item:first-child::after {align-self: flex-end;width: 50%;}#sk-container-id-9 div.sk-parallel-item:last-child::after {align-self: flex-start;width: 50%;}#sk-container-id-9 div.sk-parallel-item:only-child::after {width: 0;}#sk-container-id-9 div.sk-dashed-wrapped {border: 1px dashed gray;margin: 0 0.4em 0.5em 0.4em;box-sizing: border-box;padding-bottom: 0.4em;background-color: white;}#sk-container-id-9 div.sk-label label {font-family: monospace;font-weight: bold;display: inline-block;line-height: 1.2em;}#sk-container-id-9 div.sk-label-container {text-align: center;}#sk-container-id-9 div.sk-container {/* jupyter's `normalize.less` sets `[hidden] { display: none; }` but bootstrap.min.css set `[hidden] { display: none !important; }` so we also need the `!important` here to be able to override the default hidden behavior on the sphinx rendered scikit-learn.org. See: https://github.com/scikit-learn/scikit-learn/issues/21755 */display: inline-block !important;position: relative;}#sk-container-id-9 div.sk-text-repr-fallback {display: none;}</style><div id=\"sk-container-id-9\" class=\"sk-top-container\"><div class=\"sk-text-repr-fallback\"><pre>BaggingRegressor()</pre><b>In a Jupyter environment, please rerun this cell to show the HTML representation or trust the notebook. <br />On GitHub, the HTML representation is unable to render, please try loading this page with nbviewer.org.</b></div><div class=\"sk-container\" hidden><div class=\"sk-item\"><div class=\"sk-estimator sk-toggleable\"><input class=\"sk-toggleable__control sk-hidden--visually\" id=\"sk-estimator-id-9\" type=\"checkbox\" checked><label for=\"sk-estimator-id-9\" class=\"sk-toggleable__label sk-toggleable__label-arrow\">BaggingRegressor</label><div class=\"sk-toggleable__content\"><pre>BaggingRegressor()</pre></div></div></div></div></div>"
      ],
      "text/plain": [
       "BaggingRegressor()"
      ]
     },
     "execution_count": 99,
     "metadata": {},
     "output_type": "execute_result"
    }
   ],
   "source": [
    "from sklearn.ensemble import BaggingRegressor\n",
    "# bagging_regressor = BaggingRegressor(base_estimator=regressor, n_estimators=100, random_state=42)\n",
    "\n",
    "# # Train the Bagging Regressor\n",
    "# bagging_regressor.fit(X_train, y_train)\n",
    "\n",
    "# # Make predictions\n",
    "# predictions = bagging_regressor.predict(X_test)\n",
    "\n",
    "# print('\\nTest Scores')\n",
    "# # Evaluating the model\n",
    "# mse = mean_squared_error(y_test, test_predictions)\n",
    "# print(f'Mean Squared Error: {mse}')\n",
    "\n",
    "# r2 = r2_score(y_test, test_predictions)\n",
    "# print(f'R-squared: {r2}')\n",
    "\n",
    "bagging = BaggingRegressor()\n",
    "bagging.fit(X_train, y_train)\n"
   ]
  },
  {
   "cell_type": "code",
   "execution_count": null,
   "metadata": {
    "colab": {
     "base_uri": "https://localhost:8080/"
    },
    "id": "ZvHd37hjSi9a",
    "outputId": "71d4a585-ce8c-4b97-8c71-7579257a2987"
   },
   "outputs": [
    {
     "name": "stdout",
     "output_type": "stream",
     "text": [
      "\n",
      "Test Scores\n",
      "Mean Squared Error: 28503294.74418471\n",
      "R-squared: 0.8034276258933973\n"
     ]
    }
   ],
   "source": [
    "test_predictions = regressor.predict(X_test)\n",
    "\n",
    "\n",
    "print('\\nTest Scores')\n",
    "# Evaluating the model\n",
    "mse = mean_squared_error(y_test, test_predictions)\n",
    "print(f'Mean Squared Error: {mse}')\n",
    "\n",
    "r2 = r2_score(y_test, test_predictions)\n",
    "print(f'R-squared: {r2}')"
   ]
  },
  {
   "cell_type": "markdown",
   "metadata": {
    "id": "MhDJNFgSLs3a"
   },
   "source": [
    "### Creating a Gradient Boosting Regressor model"
   ]
  },
  {
   "cell_type": "code",
   "execution_count": null,
   "metadata": {
    "id": "lZ7Zx6WjJmvb"
   },
   "outputs": [],
   "source": [
    "gb_regressor = GradientBoostingRegressor()"
   ]
  },
  {
   "cell_type": "code",
   "execution_count": null,
   "metadata": {
    "colab": {
     "base_uri": "https://localhost:8080/",
     "height": 74
    },
    "id": "pqEHOvv3Klcl",
    "outputId": "dcfc247c-ef9a-42ef-a792-ea9588a6ec54"
   },
   "outputs": [
    {
     "data": {
      "text/html": [
       "<style>#sk-container-id-10 {color: black;background-color: white;}#sk-container-id-10 pre{padding: 0;}#sk-container-id-10 div.sk-toggleable {background-color: white;}#sk-container-id-10 label.sk-toggleable__label {cursor: pointer;display: block;width: 100%;margin-bottom: 0;padding: 0.3em;box-sizing: border-box;text-align: center;}#sk-container-id-10 label.sk-toggleable__label-arrow:before {content: \"▸\";float: left;margin-right: 0.25em;color: #696969;}#sk-container-id-10 label.sk-toggleable__label-arrow:hover:before {color: black;}#sk-container-id-10 div.sk-estimator:hover label.sk-toggleable__label-arrow:before {color: black;}#sk-container-id-10 div.sk-toggleable__content {max-height: 0;max-width: 0;overflow: hidden;text-align: left;background-color: #f0f8ff;}#sk-container-id-10 div.sk-toggleable__content pre {margin: 0.2em;color: black;border-radius: 0.25em;background-color: #f0f8ff;}#sk-container-id-10 input.sk-toggleable__control:checked~div.sk-toggleable__content {max-height: 200px;max-width: 100%;overflow: auto;}#sk-container-id-10 input.sk-toggleable__control:checked~label.sk-toggleable__label-arrow:before {content: \"▾\";}#sk-container-id-10 div.sk-estimator input.sk-toggleable__control:checked~label.sk-toggleable__label {background-color: #d4ebff;}#sk-container-id-10 div.sk-label input.sk-toggleable__control:checked~label.sk-toggleable__label {background-color: #d4ebff;}#sk-container-id-10 input.sk-hidden--visually {border: 0;clip: rect(1px 1px 1px 1px);clip: rect(1px, 1px, 1px, 1px);height: 1px;margin: -1px;overflow: hidden;padding: 0;position: absolute;width: 1px;}#sk-container-id-10 div.sk-estimator {font-family: monospace;background-color: #f0f8ff;border: 1px dotted black;border-radius: 0.25em;box-sizing: border-box;margin-bottom: 0.5em;}#sk-container-id-10 div.sk-estimator:hover {background-color: #d4ebff;}#sk-container-id-10 div.sk-parallel-item::after {content: \"\";width: 100%;border-bottom: 1px solid gray;flex-grow: 1;}#sk-container-id-10 div.sk-label:hover label.sk-toggleable__label {background-color: #d4ebff;}#sk-container-id-10 div.sk-serial::before {content: \"\";position: absolute;border-left: 1px solid gray;box-sizing: border-box;top: 0;bottom: 0;left: 50%;z-index: 0;}#sk-container-id-10 div.sk-serial {display: flex;flex-direction: column;align-items: center;background-color: white;padding-right: 0.2em;padding-left: 0.2em;position: relative;}#sk-container-id-10 div.sk-item {position: relative;z-index: 1;}#sk-container-id-10 div.sk-parallel {display: flex;align-items: stretch;justify-content: center;background-color: white;position: relative;}#sk-container-id-10 div.sk-item::before, #sk-container-id-10 div.sk-parallel-item::before {content: \"\";position: absolute;border-left: 1px solid gray;box-sizing: border-box;top: 0;bottom: 0;left: 50%;z-index: -1;}#sk-container-id-10 div.sk-parallel-item {display: flex;flex-direction: column;z-index: 1;position: relative;background-color: white;}#sk-container-id-10 div.sk-parallel-item:first-child::after {align-self: flex-end;width: 50%;}#sk-container-id-10 div.sk-parallel-item:last-child::after {align-self: flex-start;width: 50%;}#sk-container-id-10 div.sk-parallel-item:only-child::after {width: 0;}#sk-container-id-10 div.sk-dashed-wrapped {border: 1px dashed gray;margin: 0 0.4em 0.5em 0.4em;box-sizing: border-box;padding-bottom: 0.4em;background-color: white;}#sk-container-id-10 div.sk-label label {font-family: monospace;font-weight: bold;display: inline-block;line-height: 1.2em;}#sk-container-id-10 div.sk-label-container {text-align: center;}#sk-container-id-10 div.sk-container {/* jupyter's `normalize.less` sets `[hidden] { display: none; }` but bootstrap.min.css set `[hidden] { display: none !important; }` so we also need the `!important` here to be able to override the default hidden behavior on the sphinx rendered scikit-learn.org. See: https://github.com/scikit-learn/scikit-learn/issues/21755 */display: inline-block !important;position: relative;}#sk-container-id-10 div.sk-text-repr-fallback {display: none;}</style><div id=\"sk-container-id-10\" class=\"sk-top-container\"><div class=\"sk-text-repr-fallback\"><pre>GradientBoostingRegressor()</pre><b>In a Jupyter environment, please rerun this cell to show the HTML representation or trust the notebook. <br />On GitHub, the HTML representation is unable to render, please try loading this page with nbviewer.org.</b></div><div class=\"sk-container\" hidden><div class=\"sk-item\"><div class=\"sk-estimator sk-toggleable\"><input class=\"sk-toggleable__control sk-hidden--visually\" id=\"sk-estimator-id-10\" type=\"checkbox\" checked><label for=\"sk-estimator-id-10\" class=\"sk-toggleable__label sk-toggleable__label-arrow\">GradientBoostingRegressor</label><div class=\"sk-toggleable__content\"><pre>GradientBoostingRegressor()</pre></div></div></div></div></div>"
      ],
      "text/plain": [
       "GradientBoostingRegressor()"
      ]
     },
     "execution_count": 102,
     "metadata": {},
     "output_type": "execute_result"
    }
   ],
   "source": [
    "# Training the model\n",
    "gb_regressor.fit(X_train, y_train)"
   ]
  },
  {
   "cell_type": "code",
   "execution_count": null,
   "metadata": {
    "colab": {
     "base_uri": "https://localhost:8080/"
    },
    "id": "9f6NGg7xJ1HD",
    "outputId": "3a4f12ca-e544-49fd-8f76-6334dd857c1c"
   },
   "outputs": [
    {
     "name": "stdout",
     "output_type": "stream",
     "text": [
      "GradientBoostingRegressor\n",
      "\n",
      "\n",
      "Mean Squared Error(Train): 1262900877333.4934\n",
      "R-squared (Train): 0.9961436400358851\n",
      "\n",
      "\n",
      "Mean Squared Error(Test): 1706319984998.121\n",
      "R-squared (Test): 0.8034276258933973\n"
     ]
    }
   ],
   "source": [
    "model_name = type(gb_regressor).__name__\n",
    "print(model_name)\n",
    "\n",
    "print('\\n')\n",
    "\n",
    "# Making predictions for train data\n",
    "y_pred = gb_regressor.predict(X_train)\n",
    "\n",
    "# Evaluating the model\n",
    "mse = mean_squared_error(y_train, y_pred)\n",
    "print(\"Mean Squared Error(Train):\", mse)\n",
    "\n",
    "r2 = r2_score(y_train, y_pred)\n",
    "print(f'R-squared (Train): {r2}')\n",
    "\n",
    "# Making predictions for test data\n",
    "y_pred = gb_regressor.predict(X_test)\n",
    "\n",
    "print('\\n')\n",
    "\n",
    "# Evaluating the model\n",
    "mse = mean_squared_error(y_test, y_pred)\n",
    "print(\"Mean Squared Error(Test):\", mse)\n",
    "\n",
    "r2 = r2_score(y_test, test_predictions)\n",
    "print(f'R-squared (Test): {r2}')\n",
    "\n"
   ]
  },
  {
   "cell_type": "code",
   "execution_count": null,
   "metadata": {
    "id": "pJl52wTAKsFK"
   },
   "outputs": [],
   "source": []
  }
 ],
 "metadata": {
  "colab": {
   "provenance": []
  },
  "kernelspec": {
   "display_name": "Python 3 (ipykernel)",
   "language": "python",
   "name": "python3"
  },
  "language_info": {
   "codemirror_mode": {
    "name": "ipython",
    "version": 3
   },
   "file_extension": ".py",
   "mimetype": "text/x-python",
   "name": "python",
   "nbconvert_exporter": "python",
   "pygments_lexer": "ipython3",
   "version": "3.10.12"
  }
 },
 "nbformat": 4,
 "nbformat_minor": 4
}

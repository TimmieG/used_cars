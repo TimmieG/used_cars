{
  "cells": [
    {
      "cell_type": "code",
      "execution_count": 1,
      "metadata": {
        "id": "9y7L_o0XqlOf"
      },
      "outputs": [],
      "source": [
        "# Importing necessary libraries\n",
        "import pandas as pd\n",
        "import numpy as np\n",
        "\n",
        "from sklearn.ensemble import RandomForestRegressor\n",
        "from sklearn.model_selection import train_test_split\n",
        "from sklearn.preprocessing import LabelEncoder\n",
        "from sklearn.model_selection import GridSearchCV\n",
        "\n",
        "\n",
        "from sklearn.metrics import mean_squared_error, r2_score"
      ]
    },
    {
      "cell_type": "code",
      "execution_count": 2,
      "metadata": {
        "colab": {
          "base_uri": "https://localhost:8080/"
        },
        "id": "J7yzFPdlqwd9",
        "outputId": "50fd3dd7-2c7b-40ad-b08a-72ca3982d883"
      },
      "outputs": [
        {
          "output_type": "stream",
          "name": "stdout",
          "text": [
            "Mounted at /content/drive\n"
          ]
        }
      ],
      "source": [
        "from google.colab import drive\n",
        "drive.mount('/content/drive')\n",
        "\n",
        "train_data_path = '/content/drive/My Drive/train_data.csv'\n",
        "test_data_path='/content/drive/My Drive/test_data.csv'"
      ]
    },
    {
      "cell_type": "code",
      "execution_count": 3,
      "metadata": {
        "id": "yvgk05Ylqy7R"
      },
      "outputs": [],
      "source": [
        "# load data\n",
        "train_data=pd.read_csv(train_data_path)\n",
        "test_data=pd.read_csv(test_data_path)\n",
        "\n",
        "# this was causing error\n",
        "test_data = test_data[test_data['model'].isin(train_data['model'])]"
      ]
    },
    {
      "cell_type": "code",
      "execution_count": 4,
      "metadata": {
        "colab": {
          "base_uri": "https://localhost:8080/"
        },
        "id": "5zdCFcl1D0vx",
        "outputId": "ec932cf5-69a5-45d6-cc1d-1453b5945691"
      },
      "outputs": [
        {
          "output_type": "stream",
          "name": "stdout",
          "text": [
            "['manufacturer', 'model', 'condition', 'cylinders', 'fuel', 'title_status', 'transmission', 'drive', 'type', 'paint_color', 'state']\n"
          ]
        }
      ],
      "source": [
        "# categorical features\n",
        "categorical_features = train_data.select_dtypes(include=['object']).columns.tolist()\n",
        "print(categorical_features)"
      ]
    },
    {
      "cell_type": "code",
      "execution_count": 5,
      "metadata": {
        "colab": {
          "base_uri": "https://localhost:8080/"
        },
        "id": "tOXwUR5HA4nZ",
        "outputId": "9b6107a4-0bc8-49a9-e6a6-cf84fed01422"
      },
      "outputs": [
        {
          "output_type": "stream",
          "name": "stdout",
          "text": [
            "Number of rows in X_train: 252328 \n",
            "Number of rows in y_train: 252328 \n",
            "Number of rows in X_test: 60945 \n",
            "Number of rows in y_test: 60945 \n"
          ]
        }
      ],
      "source": [
        "# split data into features and target variables\n",
        "X_train = train_data.drop(columns=['price'])\n",
        "y_train = train_data['price']\n",
        "\n",
        "X_test = test_data.drop(columns=['price'])\n",
        "y_test = test_data['price']\n",
        "\n",
        "print(\"Number of rows in X_train: {} \".format(X_train.shape[0]))\n",
        "print(\"Number of rows in y_train: {} \".format(y_train.shape[0]))\n",
        "print(\"Number of rows in X_test: {} \".format(X_test.shape[0]))\n",
        "print(\"Number of rows in y_test: {} \".format(y_test.shape[0]))\n",
        "\n",
        "# print(X_test[X_test['model']=='pulsar'])\n",
        "# print(X_train[X_train['model']=='pulsar'])"
      ]
    },
    {
      "cell_type": "code",
      "execution_count": 6,
      "metadata": {
        "colab": {
          "base_uri": "https://localhost:8080/",
          "height": 206
        },
        "id": "FUSDdNABJoWF",
        "outputId": "83ae6946-965a-43ab-a62b-3281aa90e939"
      },
      "outputs": [
        {
          "output_type": "execute_result",
          "data": {
            "text/plain": [
              "   year   manufacturer       model  condition cylinders fuel  odometer  \\\n",
              "0  28.0           ford  bronco xlt       good         8  gas  127750.0   \n",
              "1  13.0      chevrolet    traverse       good         6  gas  135362.0   \n",
              "2  20.0  mercedes-benz     s-class   like new         4  gas   61121.0   \n",
              "3   5.0       cadillac         cts       good         6  gas   26570.0   \n",
              "4   6.0           jeep    wrangler  excellent         6  gas   45000.0   \n",
              "\n",
              "  title_status transmission drive         type paint_color state        lat  \\\n",
              "0        clean    automatic   4wd        sedan       white    co  38.819247   \n",
              "1        clean    automatic   4wd        sedan       white    mi  43.182400   \n",
              "2        clean    automatic   rwd  convertible       black    fl  27.888284   \n",
              "3        clean        other   4wd        sedan      silver    ga  32.510000   \n",
              "4        clean    automatic   4wd          SUV        blue    ak  64.878089   \n",
              "\n",
              "         long  \n",
              "0 -104.839096  \n",
              "1  -84.112200  \n",
              "2  -82.744474  \n",
              "3  -84.870000  \n",
              "4 -148.214529  "
            ],
            "text/html": [
              "\n",
              "  <div id=\"df-f67fcbc1-e6eb-4289-a35f-998e23dd261f\" class=\"colab-df-container\">\n",
              "    <div>\n",
              "<style scoped>\n",
              "    .dataframe tbody tr th:only-of-type {\n",
              "        vertical-align: middle;\n",
              "    }\n",
              "\n",
              "    .dataframe tbody tr th {\n",
              "        vertical-align: top;\n",
              "    }\n",
              "\n",
              "    .dataframe thead th {\n",
              "        text-align: right;\n",
              "    }\n",
              "</style>\n",
              "<table border=\"1\" class=\"dataframe\">\n",
              "  <thead>\n",
              "    <tr style=\"text-align: right;\">\n",
              "      <th></th>\n",
              "      <th>year</th>\n",
              "      <th>manufacturer</th>\n",
              "      <th>model</th>\n",
              "      <th>condition</th>\n",
              "      <th>cylinders</th>\n",
              "      <th>fuel</th>\n",
              "      <th>odometer</th>\n",
              "      <th>title_status</th>\n",
              "      <th>transmission</th>\n",
              "      <th>drive</th>\n",
              "      <th>type</th>\n",
              "      <th>paint_color</th>\n",
              "      <th>state</th>\n",
              "      <th>lat</th>\n",
              "      <th>long</th>\n",
              "    </tr>\n",
              "  </thead>\n",
              "  <tbody>\n",
              "    <tr>\n",
              "      <th>0</th>\n",
              "      <td>28.0</td>\n",
              "      <td>ford</td>\n",
              "      <td>bronco xlt</td>\n",
              "      <td>good</td>\n",
              "      <td>8</td>\n",
              "      <td>gas</td>\n",
              "      <td>127750.0</td>\n",
              "      <td>clean</td>\n",
              "      <td>automatic</td>\n",
              "      <td>4wd</td>\n",
              "      <td>sedan</td>\n",
              "      <td>white</td>\n",
              "      <td>co</td>\n",
              "      <td>38.819247</td>\n",
              "      <td>-104.839096</td>\n",
              "    </tr>\n",
              "    <tr>\n",
              "      <th>1</th>\n",
              "      <td>13.0</td>\n",
              "      <td>chevrolet</td>\n",
              "      <td>traverse</td>\n",
              "      <td>good</td>\n",
              "      <td>6</td>\n",
              "      <td>gas</td>\n",
              "      <td>135362.0</td>\n",
              "      <td>clean</td>\n",
              "      <td>automatic</td>\n",
              "      <td>4wd</td>\n",
              "      <td>sedan</td>\n",
              "      <td>white</td>\n",
              "      <td>mi</td>\n",
              "      <td>43.182400</td>\n",
              "      <td>-84.112200</td>\n",
              "    </tr>\n",
              "    <tr>\n",
              "      <th>2</th>\n",
              "      <td>20.0</td>\n",
              "      <td>mercedes-benz</td>\n",
              "      <td>s-class</td>\n",
              "      <td>like new</td>\n",
              "      <td>4</td>\n",
              "      <td>gas</td>\n",
              "      <td>61121.0</td>\n",
              "      <td>clean</td>\n",
              "      <td>automatic</td>\n",
              "      <td>rwd</td>\n",
              "      <td>convertible</td>\n",
              "      <td>black</td>\n",
              "      <td>fl</td>\n",
              "      <td>27.888284</td>\n",
              "      <td>-82.744474</td>\n",
              "    </tr>\n",
              "    <tr>\n",
              "      <th>3</th>\n",
              "      <td>5.0</td>\n",
              "      <td>cadillac</td>\n",
              "      <td>cts</td>\n",
              "      <td>good</td>\n",
              "      <td>6</td>\n",
              "      <td>gas</td>\n",
              "      <td>26570.0</td>\n",
              "      <td>clean</td>\n",
              "      <td>other</td>\n",
              "      <td>4wd</td>\n",
              "      <td>sedan</td>\n",
              "      <td>silver</td>\n",
              "      <td>ga</td>\n",
              "      <td>32.510000</td>\n",
              "      <td>-84.870000</td>\n",
              "    </tr>\n",
              "    <tr>\n",
              "      <th>4</th>\n",
              "      <td>6.0</td>\n",
              "      <td>jeep</td>\n",
              "      <td>wrangler</td>\n",
              "      <td>excellent</td>\n",
              "      <td>6</td>\n",
              "      <td>gas</td>\n",
              "      <td>45000.0</td>\n",
              "      <td>clean</td>\n",
              "      <td>automatic</td>\n",
              "      <td>4wd</td>\n",
              "      <td>SUV</td>\n",
              "      <td>blue</td>\n",
              "      <td>ak</td>\n",
              "      <td>64.878089</td>\n",
              "      <td>-148.214529</td>\n",
              "    </tr>\n",
              "  </tbody>\n",
              "</table>\n",
              "</div>\n",
              "    <div class=\"colab-df-buttons\">\n",
              "\n",
              "  <div class=\"colab-df-container\">\n",
              "    <button class=\"colab-df-convert\" onclick=\"convertToInteractive('df-f67fcbc1-e6eb-4289-a35f-998e23dd261f')\"\n",
              "            title=\"Convert this dataframe to an interactive table.\"\n",
              "            style=\"display:none;\">\n",
              "\n",
              "  <svg xmlns=\"http://www.w3.org/2000/svg\" height=\"24px\" viewBox=\"0 -960 960 960\">\n",
              "    <path d=\"M120-120v-720h720v720H120Zm60-500h600v-160H180v160Zm220 220h160v-160H400v160Zm0 220h160v-160H400v160ZM180-400h160v-160H180v160Zm440 0h160v-160H620v160ZM180-180h160v-160H180v160Zm440 0h160v-160H620v160Z\"/>\n",
              "  </svg>\n",
              "    </button>\n",
              "\n",
              "  <style>\n",
              "    .colab-df-container {\n",
              "      display:flex;\n",
              "      gap: 12px;\n",
              "    }\n",
              "\n",
              "    .colab-df-convert {\n",
              "      background-color: #E8F0FE;\n",
              "      border: none;\n",
              "      border-radius: 50%;\n",
              "      cursor: pointer;\n",
              "      display: none;\n",
              "      fill: #1967D2;\n",
              "      height: 32px;\n",
              "      padding: 0 0 0 0;\n",
              "      width: 32px;\n",
              "    }\n",
              "\n",
              "    .colab-df-convert:hover {\n",
              "      background-color: #E2EBFA;\n",
              "      box-shadow: 0px 1px 2px rgba(60, 64, 67, 0.3), 0px 1px 3px 1px rgba(60, 64, 67, 0.15);\n",
              "      fill: #174EA6;\n",
              "    }\n",
              "\n",
              "    .colab-df-buttons div {\n",
              "      margin-bottom: 4px;\n",
              "    }\n",
              "\n",
              "    [theme=dark] .colab-df-convert {\n",
              "      background-color: #3B4455;\n",
              "      fill: #D2E3FC;\n",
              "    }\n",
              "\n",
              "    [theme=dark] .colab-df-convert:hover {\n",
              "      background-color: #434B5C;\n",
              "      box-shadow: 0px 1px 3px 1px rgba(0, 0, 0, 0.15);\n",
              "      filter: drop-shadow(0px 1px 2px rgba(0, 0, 0, 0.3));\n",
              "      fill: #FFFFFF;\n",
              "    }\n",
              "  </style>\n",
              "\n",
              "    <script>\n",
              "      const buttonEl =\n",
              "        document.querySelector('#df-f67fcbc1-e6eb-4289-a35f-998e23dd261f button.colab-df-convert');\n",
              "      buttonEl.style.display =\n",
              "        google.colab.kernel.accessAllowed ? 'block' : 'none';\n",
              "\n",
              "      async function convertToInteractive(key) {\n",
              "        const element = document.querySelector('#df-f67fcbc1-e6eb-4289-a35f-998e23dd261f');\n",
              "        const dataTable =\n",
              "          await google.colab.kernel.invokeFunction('convertToInteractive',\n",
              "                                                    [key], {});\n",
              "        if (!dataTable) return;\n",
              "\n",
              "        const docLinkHtml = 'Like what you see? Visit the ' +\n",
              "          '<a target=\"_blank\" href=https://colab.research.google.com/notebooks/data_table.ipynb>data table notebook</a>'\n",
              "          + ' to learn more about interactive tables.';\n",
              "        element.innerHTML = '';\n",
              "        dataTable['output_type'] = 'display_data';\n",
              "        await google.colab.output.renderOutput(dataTable, element);\n",
              "        const docLink = document.createElement('div');\n",
              "        docLink.innerHTML = docLinkHtml;\n",
              "        element.appendChild(docLink);\n",
              "      }\n",
              "    </script>\n",
              "  </div>\n",
              "\n",
              "\n",
              "<div id=\"df-5a89efc4-eef2-42ad-a93f-2a5d25844e5b\">\n",
              "  <button class=\"colab-df-quickchart\" onclick=\"quickchart('df-5a89efc4-eef2-42ad-a93f-2a5d25844e5b')\"\n",
              "            title=\"Suggest charts\"\n",
              "            style=\"display:none;\">\n",
              "\n",
              "<svg xmlns=\"http://www.w3.org/2000/svg\" height=\"24px\"viewBox=\"0 0 24 24\"\n",
              "     width=\"24px\">\n",
              "    <g>\n",
              "        <path d=\"M19 3H5c-1.1 0-2 .9-2 2v14c0 1.1.9 2 2 2h14c1.1 0 2-.9 2-2V5c0-1.1-.9-2-2-2zM9 17H7v-7h2v7zm4 0h-2V7h2v10zm4 0h-2v-4h2v4z\"/>\n",
              "    </g>\n",
              "</svg>\n",
              "  </button>\n",
              "\n",
              "<style>\n",
              "  .colab-df-quickchart {\n",
              "      --bg-color: #E8F0FE;\n",
              "      --fill-color: #1967D2;\n",
              "      --hover-bg-color: #E2EBFA;\n",
              "      --hover-fill-color: #174EA6;\n",
              "      --disabled-fill-color: #AAA;\n",
              "      --disabled-bg-color: #DDD;\n",
              "  }\n",
              "\n",
              "  [theme=dark] .colab-df-quickchart {\n",
              "      --bg-color: #3B4455;\n",
              "      --fill-color: #D2E3FC;\n",
              "      --hover-bg-color: #434B5C;\n",
              "      --hover-fill-color: #FFFFFF;\n",
              "      --disabled-bg-color: #3B4455;\n",
              "      --disabled-fill-color: #666;\n",
              "  }\n",
              "\n",
              "  .colab-df-quickchart {\n",
              "    background-color: var(--bg-color);\n",
              "    border: none;\n",
              "    border-radius: 50%;\n",
              "    cursor: pointer;\n",
              "    display: none;\n",
              "    fill: var(--fill-color);\n",
              "    height: 32px;\n",
              "    padding: 0;\n",
              "    width: 32px;\n",
              "  }\n",
              "\n",
              "  .colab-df-quickchart:hover {\n",
              "    background-color: var(--hover-bg-color);\n",
              "    box-shadow: 0 1px 2px rgba(60, 64, 67, 0.3), 0 1px 3px 1px rgba(60, 64, 67, 0.15);\n",
              "    fill: var(--button-hover-fill-color);\n",
              "  }\n",
              "\n",
              "  .colab-df-quickchart-complete:disabled,\n",
              "  .colab-df-quickchart-complete:disabled:hover {\n",
              "    background-color: var(--disabled-bg-color);\n",
              "    fill: var(--disabled-fill-color);\n",
              "    box-shadow: none;\n",
              "  }\n",
              "\n",
              "  .colab-df-spinner {\n",
              "    border: 2px solid var(--fill-color);\n",
              "    border-color: transparent;\n",
              "    border-bottom-color: var(--fill-color);\n",
              "    animation:\n",
              "      spin 1s steps(1) infinite;\n",
              "  }\n",
              "\n",
              "  @keyframes spin {\n",
              "    0% {\n",
              "      border-color: transparent;\n",
              "      border-bottom-color: var(--fill-color);\n",
              "      border-left-color: var(--fill-color);\n",
              "    }\n",
              "    20% {\n",
              "      border-color: transparent;\n",
              "      border-left-color: var(--fill-color);\n",
              "      border-top-color: var(--fill-color);\n",
              "    }\n",
              "    30% {\n",
              "      border-color: transparent;\n",
              "      border-left-color: var(--fill-color);\n",
              "      border-top-color: var(--fill-color);\n",
              "      border-right-color: var(--fill-color);\n",
              "    }\n",
              "    40% {\n",
              "      border-color: transparent;\n",
              "      border-right-color: var(--fill-color);\n",
              "      border-top-color: var(--fill-color);\n",
              "    }\n",
              "    60% {\n",
              "      border-color: transparent;\n",
              "      border-right-color: var(--fill-color);\n",
              "    }\n",
              "    80% {\n",
              "      border-color: transparent;\n",
              "      border-right-color: var(--fill-color);\n",
              "      border-bottom-color: var(--fill-color);\n",
              "    }\n",
              "    90% {\n",
              "      border-color: transparent;\n",
              "      border-bottom-color: var(--fill-color);\n",
              "    }\n",
              "  }\n",
              "</style>\n",
              "\n",
              "  <script>\n",
              "    async function quickchart(key) {\n",
              "      const quickchartButtonEl =\n",
              "        document.querySelector('#' + key + ' button');\n",
              "      quickchartButtonEl.disabled = true;  // To prevent multiple clicks.\n",
              "      quickchartButtonEl.classList.add('colab-df-spinner');\n",
              "      try {\n",
              "        const charts = await google.colab.kernel.invokeFunction(\n",
              "            'suggestCharts', [key], {});\n",
              "      } catch (error) {\n",
              "        console.error('Error during call to suggestCharts:', error);\n",
              "      }\n",
              "      quickchartButtonEl.classList.remove('colab-df-spinner');\n",
              "      quickchartButtonEl.classList.add('colab-df-quickchart-complete');\n",
              "    }\n",
              "    (() => {\n",
              "      let quickchartButtonEl =\n",
              "        document.querySelector('#df-5a89efc4-eef2-42ad-a93f-2a5d25844e5b button');\n",
              "      quickchartButtonEl.style.display =\n",
              "        google.colab.kernel.accessAllowed ? 'block' : 'none';\n",
              "    })();\n",
              "  </script>\n",
              "</div>\n",
              "\n",
              "    </div>\n",
              "  </div>\n"
            ],
            "application/vnd.google.colaboratory.intrinsic+json": {
              "type": "dataframe",
              "variable_name": "X_test",
              "summary": "{\n  \"name\": \"X_test\",\n  \"rows\": 60945,\n  \"fields\": [\n    {\n      \"column\": \"year\",\n      \"properties\": {\n        \"dtype\": \"number\",\n        \"std\": 8.569484766510417,\n        \"min\": 1.0,\n        \"max\": 123.0,\n        \"num_unique_values\": 96,\n        \"samples\": [\n          77.0,\n          59.0,\n          1.0\n        ],\n        \"semantic_type\": \"\",\n        \"description\": \"\"\n      }\n    },\n    {\n      \"column\": \"manufacturer\",\n      \"properties\": {\n        \"dtype\": \"category\",\n        \"num_unique_values\": 41,\n        \"samples\": [\n          \"mercury\",\n          \"gmc\",\n          \"mitsubishi\"\n        ],\n        \"semantic_type\": \"\",\n        \"description\": \"\"\n      }\n    },\n    {\n      \"column\": \"model\",\n      \"properties\": {\n        \"dtype\": \"category\",\n        \"num_unique_values\": 5374,\n        \"samples\": [\n          \"altima 2.5 sl\",\n          \"vibe awd\",\n          \"f-250 super duty ext-cab\"\n        ],\n        \"semantic_type\": \"\",\n        \"description\": \"\"\n      }\n    },\n    {\n      \"column\": \"condition\",\n      \"properties\": {\n        \"dtype\": \"category\",\n        \"num_unique_values\": 6,\n        \"samples\": [\n          \"good\",\n          \"like new\",\n          \"salvage\"\n        ],\n        \"semantic_type\": \"\",\n        \"description\": \"\"\n      }\n    },\n    {\n      \"column\": \"cylinders\",\n      \"properties\": {\n        \"dtype\": \"category\",\n        \"num_unique_values\": 8,\n        \"samples\": [\n          \"6\",\n          \"5\",\n          \"8\"\n        ],\n        \"semantic_type\": \"\",\n        \"description\": \"\"\n      }\n    },\n    {\n      \"column\": \"fuel\",\n      \"properties\": {\n        \"dtype\": \"category\",\n        \"num_unique_values\": 5,\n        \"samples\": [\n          \"other\",\n          \"hybrid\",\n          \"diesel\"\n        ],\n        \"semantic_type\": \"\",\n        \"description\": \"\"\n      }\n    },\n    {\n      \"column\": \"odometer\",\n      \"properties\": {\n        \"dtype\": \"number\",\n        \"std\": 185788.97073888363,\n        \"min\": 0.0,\n        \"max\": 10000000.0,\n        \"num_unique_values\": 29797,\n        \"samples\": [\n          33658.0,\n          164833.0,\n          18547.0\n        ],\n        \"semantic_type\": \"\",\n        \"description\": \"\"\n      }\n    },\n    {\n      \"column\": \"title_status\",\n      \"properties\": {\n        \"dtype\": \"category\",\n        \"num_unique_values\": 6,\n        \"samples\": [\n          \"clean\",\n          \"missing\",\n          \"parts only\"\n        ],\n        \"semantic_type\": \"\",\n        \"description\": \"\"\n      }\n    },\n    {\n      \"column\": \"transmission\",\n      \"properties\": {\n        \"dtype\": \"category\",\n        \"num_unique_values\": 3,\n        \"samples\": [\n          \"automatic\",\n          \"other\",\n          \"manual\"\n        ],\n        \"semantic_type\": \"\",\n        \"description\": \"\"\n      }\n    },\n    {\n      \"column\": \"drive\",\n      \"properties\": {\n        \"dtype\": \"category\",\n        \"num_unique_values\": 3,\n        \"samples\": [\n          \"4wd\",\n          \"rwd\",\n          \"fwd\"\n        ],\n        \"semantic_type\": \"\",\n        \"description\": \"\"\n      }\n    },\n    {\n      \"column\": \"type\",\n      \"properties\": {\n        \"dtype\": \"category\",\n        \"num_unique_values\": 13,\n        \"samples\": [\n          \"offroad\",\n          \"mini-van\",\n          \"sedan\"\n        ],\n        \"semantic_type\": \"\",\n        \"description\": \"\"\n      }\n    },\n    {\n      \"column\": \"paint_color\",\n      \"properties\": {\n        \"dtype\": \"category\",\n        \"num_unique_values\": 12,\n        \"samples\": [\n          \"orange\",\n          \"yellow\",\n          \"white\"\n        ],\n        \"semantic_type\": \"\",\n        \"description\": \"\"\n      }\n    },\n    {\n      \"column\": \"state\",\n      \"properties\": {\n        \"dtype\": \"category\",\n        \"num_unique_values\": 51,\n        \"samples\": [\n          \"nv\",\n          \"in\",\n          \"ms\"\n        ],\n        \"semantic_type\": \"\",\n        \"description\": \"\"\n      }\n    },\n    {\n      \"column\": \"lat\",\n      \"properties\": {\n        \"dtype\": \"number\",\n        \"std\": 5.843317016522129,\n        \"min\": -67.144243,\n        \"max\": 80.678836,\n        \"num_unique_values\": 16036,\n        \"samples\": [\n          41.023719,\n          40.9158,\n          28.403792\n        ],\n        \"semantic_type\": \"\",\n        \"description\": \"\"\n      }\n    },\n    {\n      \"column\": \"long\",\n      \"properties\": {\n        \"dtype\": \"number\",\n        \"std\": 18.152128068476593,\n        \"min\": -159.590001,\n        \"max\": 173.885502,\n        \"num_unique_values\": 16202,\n        \"samples\": [\n          -121.845245,\n          -85.825968,\n          -93.2809\n        ],\n        \"semantic_type\": \"\",\n        \"description\": \"\"\n      }\n    }\n  ]\n}"
            }
          },
          "metadata": {},
          "execution_count": 6
        }
      ],
      "source": [
        "X_test.head()"
      ]
    },
    {
      "cell_type": "code",
      "execution_count": 7,
      "metadata": {
        "colab": {
          "base_uri": "https://localhost:8080/"
        },
        "id": "ZxQq64ICB_8V",
        "outputId": "c20a9dc0-d7fe-48c9-ae29-43c2720da147"
      },
      "outputs": [
        {
          "output_type": "stream",
          "name": "stdout",
          "text": [
            "252328\n",
            "{'manufacturer': LabelEncoder(), 'model': LabelEncoder(), 'condition': LabelEncoder(), 'cylinders': LabelEncoder(), 'fuel': LabelEncoder(), 'title_status': LabelEncoder(), 'transmission': LabelEncoder(), 'drive': LabelEncoder(), 'type': LabelEncoder(), 'paint_color': LabelEncoder(), 'state': LabelEncoder()}\n"
          ]
        }
      ],
      "source": [
        "label_encoders = {}\n",
        "\n",
        "# Encode categorical features in training data\n",
        "for feature in X_train.columns[X_train.dtypes == 'object']:\n",
        "    label_encoders[feature] = LabelEncoder()\n",
        "    X_train[feature] = label_encoders[feature].fit_transform(X_train[feature])\n",
        "\n",
        "\n",
        "print(X_train.shape[0])\n",
        "\n",
        "print(label_encoders)\n",
        "\n",
        "for feature in X_test.columns[X_test.dtypes == 'object']:\n",
        "    X_test[feature] = label_encoders[feature].transform(X_test[feature])\n",
        "\n"
      ]
    },
    {
      "cell_type": "code",
      "execution_count": 8,
      "metadata": {
        "id": "FY9kyPuFy_f7"
      },
      "outputs": [],
      "source": [
        "# condition_counts =train_data['condition'].value_counts()\n",
        "# print(condition_counts)"
      ]
    },
    {
      "cell_type": "code",
      "execution_count": 9,
      "metadata": {
        "id": "Hk8F68gyxBtx"
      },
      "outputs": [],
      "source": [
        "# # # labeled encodeing for vehicle's condition\n",
        "# condition={'new':1,'like new':2,'excellent':3,'good':4,'fair':5,'salvage':6}\n",
        "\n",
        "# train_data['condition'] = train_data['condition'].map(condition)"
      ]
    },
    {
      "cell_type": "code",
      "execution_count": 10,
      "metadata": {
        "id": "w_5MXNrm0Ix4"
      },
      "outputs": [],
      "source": [
        "# cylinders_counts =train_data['cylinders'].value_counts()\n",
        "# print(cylinders_counts)"
      ]
    },
    {
      "cell_type": "code",
      "execution_count": 11,
      "metadata": {
        "id": "dvnJ2pOI0edg"
      },
      "outputs": [],
      "source": [
        "# # change other to -1\n",
        "# train_data['cylinders'].replace('other', -1, inplace=True)\n",
        "\n",
        "# # train_data['cylinders'].dtypes\n",
        "# train_data['cylinders'] = train_data['cylinders'].astype(int)"
      ]
    },
    {
      "cell_type": "code",
      "execution_count": 12,
      "metadata": {
        "id": "ZNbEXW-G14b7"
      },
      "outputs": [],
      "source": [
        "# fuel_counts =train_data['fuel'].value_counts()\n",
        "# print(fuel_counts)"
      ]
    },
    {
      "cell_type": "code",
      "execution_count": 13,
      "metadata": {
        "id": "DxSlg58Z23pk"
      },
      "outputs": [],
      "source": [
        "# fuel={'gas':1,'diesel':2,'electric':3,'hybrid':4,'other':-1}\n",
        "\n",
        "# train_data['fuel'] = train_data['fuel'].map(fuel)"
      ]
    },
    {
      "cell_type": "code",
      "execution_count": 14,
      "metadata": {
        "id": "k2j6-V753eC4"
      },
      "outputs": [],
      "source": [
        "# title_status_count =train_data['title_status'].value_counts()\n",
        "# print(title_status_count)"
      ]
    },
    {
      "cell_type": "code",
      "execution_count": 15,
      "metadata": {
        "id": "EWFKkYwI31DW"
      },
      "outputs": [],
      "source": [
        "# title_status={'clean':1,'rebuilt':2,'salvage':3,'lien':4,'parts only':5,'missing':6}\n",
        "\n",
        "# train_data['title_status'] = train_data['title_status'].map(title_status)"
      ]
    },
    {
      "cell_type": "code",
      "execution_count": 16,
      "metadata": {
        "id": "3xHh4oiVJgFD"
      },
      "outputs": [],
      "source": [
        "# transmission_count =train_data['transmission'].value_counts()\n",
        "# print(transmission_count)"
      ]
    },
    {
      "cell_type": "code",
      "execution_count": 17,
      "metadata": {
        "id": "BBpwT6UXJoYB"
      },
      "outputs": [],
      "source": [
        "# transmission={'automatic':1,'manual':2,'other':3}\n",
        "\n",
        "# train_data['transmission'] = train_data['transmission'].map(transmission)"
      ]
    },
    {
      "cell_type": "code",
      "execution_count": 18,
      "metadata": {
        "id": "TaRegDKe97h1"
      },
      "outputs": [],
      "source": [
        "# param_grid = {\n",
        "#     'n_estimators': [100, 200, 300],\n",
        "#     'max_depth': [None, 10, 20],\n",
        "#     'min_samples_split': [2, 5, 10]\n",
        "# }"
      ]
    },
    {
      "cell_type": "code",
      "execution_count": 19,
      "metadata": {
        "id": "z9B25lhnttC7"
      },
      "outputs": [],
      "source": [
        "# Fitting Random Forest Regression to the dataset\n",
        "regressor = RandomForestRegressor(n_estimators=100, random_state=0, oob_score=True)"
      ]
    },
    {
      "cell_type": "code",
      "execution_count": 20,
      "metadata": {
        "id": "fWUSVZFq-IY0"
      },
      "outputs": [],
      "source": [
        "# grid_search = GridSearchCV(estimator=rf_regressor, param_grid=param_grid, cv=5, scoring='neg_mean_squared_error', verbose=1,n_jobs=-1)\n",
        "# grid_search.fit(X_train, y_train)"
      ]
    },
    {
      "cell_type": "code",
      "execution_count": 21,
      "metadata": {
        "id": "CpDlPWwQ_rH8"
      },
      "outputs": [],
      "source": [
        "# best_rf_model = grid_search.best_estimator_\n",
        "\n",
        "# # Evaluate the model on test data\n",
        "# y_pred = best_rf_model.predict(X_test)\n",
        "# mse = mean_squared_error(y_test, y_pred)\n",
        "# r2 = r2_score(y_test, y_pred)"
      ]
    },
    {
      "cell_type": "code",
      "execution_count": 22,
      "metadata": {
        "id": "_NZDOUAQ-gbP"
      },
      "outputs": [],
      "source": [
        "# best_rf_model = grid_search.best_estimator_"
      ]
    },
    {
      "cell_type": "code",
      "execution_count": 23,
      "metadata": {
        "colab": {
          "base_uri": "https://localhost:8080/",
          "height": 74
        },
        "id": "E59oPQU-ttRv",
        "outputId": "0aa35a16-76cf-4243-dc03-13c6a0e4b046"
      },
      "outputs": [
        {
          "output_type": "execute_result",
          "data": {
            "text/plain": [
              "RandomForestRegressor(oob_score=True, random_state=0)"
            ],
            "text/html": [
              "<style>#sk-container-id-1 {color: black;background-color: white;}#sk-container-id-1 pre{padding: 0;}#sk-container-id-1 div.sk-toggleable {background-color: white;}#sk-container-id-1 label.sk-toggleable__label {cursor: pointer;display: block;width: 100%;margin-bottom: 0;padding: 0.3em;box-sizing: border-box;text-align: center;}#sk-container-id-1 label.sk-toggleable__label-arrow:before {content: \"▸\";float: left;margin-right: 0.25em;color: #696969;}#sk-container-id-1 label.sk-toggleable__label-arrow:hover:before {color: black;}#sk-container-id-1 div.sk-estimator:hover label.sk-toggleable__label-arrow:before {color: black;}#sk-container-id-1 div.sk-toggleable__content {max-height: 0;max-width: 0;overflow: hidden;text-align: left;background-color: #f0f8ff;}#sk-container-id-1 div.sk-toggleable__content pre {margin: 0.2em;color: black;border-radius: 0.25em;background-color: #f0f8ff;}#sk-container-id-1 input.sk-toggleable__control:checked~div.sk-toggleable__content {max-height: 200px;max-width: 100%;overflow: auto;}#sk-container-id-1 input.sk-toggleable__control:checked~label.sk-toggleable__label-arrow:before {content: \"▾\";}#sk-container-id-1 div.sk-estimator input.sk-toggleable__control:checked~label.sk-toggleable__label {background-color: #d4ebff;}#sk-container-id-1 div.sk-label input.sk-toggleable__control:checked~label.sk-toggleable__label {background-color: #d4ebff;}#sk-container-id-1 input.sk-hidden--visually {border: 0;clip: rect(1px 1px 1px 1px);clip: rect(1px, 1px, 1px, 1px);height: 1px;margin: -1px;overflow: hidden;padding: 0;position: absolute;width: 1px;}#sk-container-id-1 div.sk-estimator {font-family: monospace;background-color: #f0f8ff;border: 1px dotted black;border-radius: 0.25em;box-sizing: border-box;margin-bottom: 0.5em;}#sk-container-id-1 div.sk-estimator:hover {background-color: #d4ebff;}#sk-container-id-1 div.sk-parallel-item::after {content: \"\";width: 100%;border-bottom: 1px solid gray;flex-grow: 1;}#sk-container-id-1 div.sk-label:hover label.sk-toggleable__label {background-color: #d4ebff;}#sk-container-id-1 div.sk-serial::before {content: \"\";position: absolute;border-left: 1px solid gray;box-sizing: border-box;top: 0;bottom: 0;left: 50%;z-index: 0;}#sk-container-id-1 div.sk-serial {display: flex;flex-direction: column;align-items: center;background-color: white;padding-right: 0.2em;padding-left: 0.2em;position: relative;}#sk-container-id-1 div.sk-item {position: relative;z-index: 1;}#sk-container-id-1 div.sk-parallel {display: flex;align-items: stretch;justify-content: center;background-color: white;position: relative;}#sk-container-id-1 div.sk-item::before, #sk-container-id-1 div.sk-parallel-item::before {content: \"\";position: absolute;border-left: 1px solid gray;box-sizing: border-box;top: 0;bottom: 0;left: 50%;z-index: -1;}#sk-container-id-1 div.sk-parallel-item {display: flex;flex-direction: column;z-index: 1;position: relative;background-color: white;}#sk-container-id-1 div.sk-parallel-item:first-child::after {align-self: flex-end;width: 50%;}#sk-container-id-1 div.sk-parallel-item:last-child::after {align-self: flex-start;width: 50%;}#sk-container-id-1 div.sk-parallel-item:only-child::after {width: 0;}#sk-container-id-1 div.sk-dashed-wrapped {border: 1px dashed gray;margin: 0 0.4em 0.5em 0.4em;box-sizing: border-box;padding-bottom: 0.4em;background-color: white;}#sk-container-id-1 div.sk-label label {font-family: monospace;font-weight: bold;display: inline-block;line-height: 1.2em;}#sk-container-id-1 div.sk-label-container {text-align: center;}#sk-container-id-1 div.sk-container {/* jupyter's `normalize.less` sets `[hidden] { display: none; }` but bootstrap.min.css set `[hidden] { display: none !important; }` so we also need the `!important` here to be able to override the default hidden behavior on the sphinx rendered scikit-learn.org. See: https://github.com/scikit-learn/scikit-learn/issues/21755 */display: inline-block !important;position: relative;}#sk-container-id-1 div.sk-text-repr-fallback {display: none;}</style><div id=\"sk-container-id-1\" class=\"sk-top-container\"><div class=\"sk-text-repr-fallback\"><pre>RandomForestRegressor(oob_score=True, random_state=0)</pre><b>In a Jupyter environment, please rerun this cell to show the HTML representation or trust the notebook. <br />On GitHub, the HTML representation is unable to render, please try loading this page with nbviewer.org.</b></div><div class=\"sk-container\" hidden><div class=\"sk-item\"><div class=\"sk-estimator sk-toggleable\"><input class=\"sk-toggleable__control sk-hidden--visually\" id=\"sk-estimator-id-1\" type=\"checkbox\" checked><label for=\"sk-estimator-id-1\" class=\"sk-toggleable__label sk-toggleable__label-arrow\">RandomForestRegressor</label><div class=\"sk-toggleable__content\"><pre>RandomForestRegressor(oob_score=True, random_state=0)</pre></div></div></div></div></div>"
            ]
          },
          "metadata": {},
          "execution_count": 23
        }
      ],
      "source": [
        "# Fit the regressor with x and y data\n",
        "regressor.fit(X_train, y_train)"
      ]
    },
    {
      "cell_type": "code",
      "execution_count": 24,
      "metadata": {
        "colab": {
          "base_uri": "https://localhost:8080/"
        },
        "id": "GzgeTuEuauez",
        "outputId": "aede0de4-9ea5-4f68-d313-c9c88a6353fc"
      },
      "outputs": [
        {
          "output_type": "stream",
          "name": "stdout",
          "text": [
            "RandomForestRegressor\n",
            "Out-of-Bag Score: -0.14810196375141405\n",
            "\n",
            "Training Scores\n",
            "Mean Squared Error: 29122340312979.63\n",
            "R-squared: 0.8509378864608771\n",
            "\n",
            "Test Scores\n",
            "Mean Squared Error: 257629183514787.06\n",
            "R-squared: -0.12232149905260559\n"
          ]
        }
      ],
      "source": [
        "\n",
        "model_name = type(regressor).__name__\n",
        "print(model_name)\n",
        "\n",
        "# Access the OOB Score\n",
        "oob_score = regressor.oob_score_\n",
        "print(f'Out-of-Bag Score: {oob_score}')\n",
        "\n",
        "# Making predictions on the same data or new data\n",
        "predictions = regressor.predict(X_train)\n",
        "\n",
        "print('\\nTraining Scores')\n",
        "\n",
        "# Evaluating the model\n",
        "mse = mean_squared_error(y_train, predictions)\n",
        "print(f'Mean Squared Error: {mse}')\n",
        "\n",
        "r2 = r2_score(y_train, predictions)\n",
        "print(f'R-squared: {r2}')\n",
        "\n",
        "test_predictions = regressor.predict(X_test)\n",
        "\n",
        "\n",
        "print('\\nTest Scores')\n",
        "# Evaluating the model\n",
        "mse = mean_squared_error(y_test, test_predictions)\n",
        "print(f'Mean Squared Error: {mse}')\n",
        "\n",
        "r2 = r2_score(y_test, test_predictions)\n",
        "print(f'R-squared: {r2}')"
      ]
    }
  ],
  "metadata": {
    "colab": {
      "provenance": []
    },
    "kernelspec": {
      "display_name": "Python 3",
      "name": "python3"
    },
    "language_info": {
      "name": "python"
    }
  },
  "nbformat": 4,
  "nbformat_minor": 0
}